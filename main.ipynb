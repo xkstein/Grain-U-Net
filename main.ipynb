{
 "cells": [
  {
   "cell_type": "markdown",
   "metadata": {
    "id": "0Ntytu8-WwfG"
   },
   "source": [
    "# Set up Google Colab\n",
    "\n",
    "This means mounting drive and importing"
   ]
  },
  {
   "cell_type": "code",
   "execution_count": 1,
   "metadata": {
    "colab": {
     "base_uri": "https://localhost:8080/",
     "height": 380
    },
    "executionInfo": {
     "elapsed": 13085,
     "status": "error",
     "timestamp": 1662404981935,
     "user": {
      "displayName": "Alan Jiahui Ma",
      "userId": "07426490136012605744"
     },
     "user_tz": 240
    },
    "id": "Z5laSkra8ozA",
    "outputId": "5dc0b3c9-fa78-4ba0-b657-f26a40212ead",
    "scrolled": true
   },
   "outputs": [
    {
     "ename": "MessageError",
     "evalue": "ignored",
     "output_type": "error",
     "traceback": [
      "\u001b[0;31m---------------------------------------------------------------------------\u001b[0m",
      "\u001b[0;31mMessageError\u001b[0m                              Traceback (most recent call last)",
      "\u001b[0;32m<ipython-input-1-8c85e324a839>\u001b[0m in \u001b[0;36m<module>\u001b[0;34m\u001b[0m\n\u001b[1;32m      1\u001b[0m \u001b[0;32mfrom\u001b[0m \u001b[0mgoogle\u001b[0m\u001b[0;34m.\u001b[0m\u001b[0mcolab\u001b[0m \u001b[0;32mimport\u001b[0m \u001b[0mdrive\u001b[0m\u001b[0;34m\u001b[0m\u001b[0;34m\u001b[0m\u001b[0m\n\u001b[0;32m----> 2\u001b[0;31m \u001b[0mdrive\u001b[0m\u001b[0;34m.\u001b[0m\u001b[0mmount\u001b[0m\u001b[0;34m(\u001b[0m\u001b[0;34m'/content/drive'\u001b[0m\u001b[0;34m,\u001b[0m \u001b[0mforce_remount\u001b[0m\u001b[0;34m=\u001b[0m\u001b[0;32mTrue\u001b[0m\u001b[0;34m)\u001b[0m\u001b[0;34m\u001b[0m\u001b[0;34m\u001b[0m\u001b[0m\n\u001b[0m\u001b[1;32m      3\u001b[0m \u001b[0;34m\u001b[0m\u001b[0m\n\u001b[1;32m      4\u001b[0m \u001b[0mFOLDERNAME\u001b[0m \u001b[0;34m=\u001b[0m \u001b[0;34m'Lab/Grain-U-Net'\u001b[0m\u001b[0;34m\u001b[0m\u001b[0;34m\u001b[0m\u001b[0m\n\u001b[1;32m      5\u001b[0m \u001b[0;32massert\u001b[0m \u001b[0mFOLDERNAME\u001b[0m \u001b[0;32mis\u001b[0m \u001b[0;32mnot\u001b[0m \u001b[0;32mNone\u001b[0m\u001b[0;34m,\u001b[0m \u001b[0;34m\"[!] Enter the foldername.\"\u001b[0m\u001b[0;34m\u001b[0m\u001b[0;34m\u001b[0m\u001b[0m\n",
      "\u001b[0;32m/usr/local/lib/python3.7/dist-packages/google/colab/drive.py\u001b[0m in \u001b[0;36mmount\u001b[0;34m(mountpoint, force_remount, timeout_ms)\u001b[0m\n\u001b[1;32m    103\u001b[0m       \u001b[0mforce_remount\u001b[0m\u001b[0;34m=\u001b[0m\u001b[0mforce_remount\u001b[0m\u001b[0;34m,\u001b[0m\u001b[0;34m\u001b[0m\u001b[0;34m\u001b[0m\u001b[0m\n\u001b[1;32m    104\u001b[0m       \u001b[0mtimeout_ms\u001b[0m\u001b[0;34m=\u001b[0m\u001b[0mtimeout_ms\u001b[0m\u001b[0;34m,\u001b[0m\u001b[0;34m\u001b[0m\u001b[0;34m\u001b[0m\u001b[0m\n\u001b[0;32m--> 105\u001b[0;31m       ephemeral=True)\n\u001b[0m\u001b[1;32m    106\u001b[0m \u001b[0;34m\u001b[0m\u001b[0m\n\u001b[1;32m    107\u001b[0m \u001b[0;34m\u001b[0m\u001b[0m\n",
      "\u001b[0;32m/usr/local/lib/python3.7/dist-packages/google/colab/drive.py\u001b[0m in \u001b[0;36m_mount\u001b[0;34m(mountpoint, force_remount, timeout_ms, ephemeral)\u001b[0m\n\u001b[1;32m    118\u001b[0m   \u001b[0;32mif\u001b[0m \u001b[0mephemeral\u001b[0m\u001b[0;34m:\u001b[0m\u001b[0;34m\u001b[0m\u001b[0;34m\u001b[0m\u001b[0m\n\u001b[1;32m    119\u001b[0m     _message.blocking_request(\n\u001b[0;32m--> 120\u001b[0;31m         'request_auth', request={'authType': 'dfs_ephemeral'}, timeout_sec=None)\n\u001b[0m\u001b[1;32m    121\u001b[0m \u001b[0;34m\u001b[0m\u001b[0m\n\u001b[1;32m    122\u001b[0m   \u001b[0mmountpoint\u001b[0m \u001b[0;34m=\u001b[0m \u001b[0m_os\u001b[0m\u001b[0;34m.\u001b[0m\u001b[0mpath\u001b[0m\u001b[0;34m.\u001b[0m\u001b[0mexpanduser\u001b[0m\u001b[0;34m(\u001b[0m\u001b[0mmountpoint\u001b[0m\u001b[0;34m)\u001b[0m\u001b[0;34m\u001b[0m\u001b[0;34m\u001b[0m\u001b[0m\n",
      "\u001b[0;32m/usr/local/lib/python3.7/dist-packages/google/colab/_message.py\u001b[0m in \u001b[0;36mblocking_request\u001b[0;34m(request_type, request, timeout_sec, parent)\u001b[0m\n\u001b[1;32m    169\u001b[0m   request_id = send_request(\n\u001b[1;32m    170\u001b[0m       request_type, request, parent=parent, expect_reply=True)\n\u001b[0;32m--> 171\u001b[0;31m   \u001b[0;32mreturn\u001b[0m \u001b[0mread_reply_from_input\u001b[0m\u001b[0;34m(\u001b[0m\u001b[0mrequest_id\u001b[0m\u001b[0;34m,\u001b[0m \u001b[0mtimeout_sec\u001b[0m\u001b[0;34m)\u001b[0m\u001b[0;34m\u001b[0m\u001b[0;34m\u001b[0m\u001b[0m\n\u001b[0m",
      "\u001b[0;32m/usr/local/lib/python3.7/dist-packages/google/colab/_message.py\u001b[0m in \u001b[0;36mread_reply_from_input\u001b[0;34m(message_id, timeout_sec)\u001b[0m\n\u001b[1;32m    100\u001b[0m         reply.get('colab_msg_id') == message_id):\n\u001b[1;32m    101\u001b[0m       \u001b[0;32mif\u001b[0m \u001b[0;34m'error'\u001b[0m \u001b[0;32min\u001b[0m \u001b[0mreply\u001b[0m\u001b[0;34m:\u001b[0m\u001b[0;34m\u001b[0m\u001b[0;34m\u001b[0m\u001b[0m\n\u001b[0;32m--> 102\u001b[0;31m         \u001b[0;32mraise\u001b[0m \u001b[0mMessageError\u001b[0m\u001b[0;34m(\u001b[0m\u001b[0mreply\u001b[0m\u001b[0;34m[\u001b[0m\u001b[0;34m'error'\u001b[0m\u001b[0;34m]\u001b[0m\u001b[0;34m)\u001b[0m\u001b[0;34m\u001b[0m\u001b[0;34m\u001b[0m\u001b[0m\n\u001b[0m\u001b[1;32m    103\u001b[0m       \u001b[0;32mreturn\u001b[0m \u001b[0mreply\u001b[0m\u001b[0;34m.\u001b[0m\u001b[0mget\u001b[0m\u001b[0;34m(\u001b[0m\u001b[0;34m'data'\u001b[0m\u001b[0;34m,\u001b[0m \u001b[0;32mNone\u001b[0m\u001b[0;34m)\u001b[0m\u001b[0;34m\u001b[0m\u001b[0;34m\u001b[0m\u001b[0m\n\u001b[1;32m    104\u001b[0m \u001b[0;34m\u001b[0m\u001b[0m\n",
      "\u001b[0;31mMessageError\u001b[0m: Error: credential propagation was unsuccessful"
     ]
    }
   ],
   "source": [
    "from google.colab import drive\n",
    "drive.mount('/content/drive', force_remount=True)\n",
    "\n",
    "FOLDERNAME = 'Lab/Grain-U-Net'\n",
    "assert FOLDERNAME is not None, \"[!] Enter the foldername.\"\n",
    "\n",
    "import sys\n",
    "sys.path.append('/content/drive/MyDrive/{}'.format(FOLDERNAME))\n",
    "sys.path.append('/content/drive/MyDrive/{}/src'.format(FOLDERNAME))\n",
    "%cd /content/drive/My\\ Drive/$FOLDERNAME\n",
    "\n",
    "!pip install -q plantcv\n",
    "!pip install -e ."
   ]
  },
  {
   "cell_type": "code",
   "execution_count": null,
   "metadata": {
    "executionInfo": {
     "elapsed": 14,
     "status": "aborted",
     "timestamp": 1662404981940,
     "user": {
      "displayName": "Alan Jiahui Ma",
      "userId": "07426490136012605744"
     },
     "user_tz": 240
    },
    "id": "sZks0Qztftmw"
   },
   "outputs": [],
   "source": [
    "%load_ext autoreload\n",
    "%autoreload 2\n",
    "%aimport -tensorflow\n"
   ]
  },
  {
   "cell_type": "code",
   "execution_count": 1,
   "metadata": {},
   "outputs": [
    {
     "name": "stdout",
     "output_type": "stream",
     "text": [
      "Obtaining file:///Users/jamie/Documents/Lab/graingrowth/Grain-U-Net\n",
      "  Preparing metadata (setup.py) ... \u001b[?25ldone\n",
      "\u001b[?25hInstalling collected packages: src\n",
      "  Attempting uninstall: src\n",
      "    Found existing installation: src 0.0.0\n",
      "    Uninstalling src-0.0.0:\n",
      "      Successfully uninstalled src-0.0.0\n",
      "  Running setup.py develop for src\n",
      "Successfully installed src-0.0.0\n",
      "\u001b[33mWARNING: You are using pip version 22.0.4; however, version 22.3.1 is available.\n",
      "You should consider upgrading via the '/Users/jamie/.pyenv/versions/3.10.3/bin/python3.10 -m pip install --upgrade pip' command.\u001b[0m\u001b[33m\n",
      "\u001b[0m"
     ]
    }
   ],
   "source": [
    "!pip install -e ."
   ]
  },
  {
   "cell_type": "markdown",
   "metadata": {
    "id": "AzmssZqc8nmz"
   },
   "source": [
    "# Train\n",
    "\n",
    "Importing data, creating Keras sequence, and training "
   ]
  },
  {
   "cell_type": "markdown",
   "metadata": {
    "id": "8T4RUTKKsoRK"
   },
   "source": [
    "## Train With Sequence"
   ]
  },
  {
   "cell_type": "markdown",
   "metadata": {
    "id": "KFxQqYZbsoRL"
   },
   "source": [
    "**Importing the names of all the files we want to train with**"
   ]
  },
  {
   "cell_type": "code",
   "execution_count": 6,
   "metadata": {
    "colab": {
     "base_uri": "https://localhost:8080/"
    },
    "executionInfo": {
     "elapsed": 6458,
     "status": "ok",
     "timestamp": 1658933390374,
     "user": {
      "displayName": "Alan Jiahui Ma",
      "userId": "07426490136012605744"
     },
     "user_tz": 240
    },
    "id": "nK96F8npftmz",
    "outputId": "f3610306-2ffa-4c6e-fda8-e27e4bbfafb5"
   },
   "outputs": [
    {
     "name": "stdout",
     "output_type": "stream",
     "text": [
      "Found 160 samples and 160 tracings\n"
     ]
    }
   ],
   "source": [
    "from pathlib import Path\n",
    "import numpy as np\n",
    "\n",
    "train_dir = Path('data/train_atarashii_256_3d')\n",
    "\n",
    "input_names = list(train_dir.glob('*/image/*.png'))\n",
    "label_names = list(train_dir.glob('*/label/*.png'))\n",
    "\n",
    "print(f\"Found {len(input_names)} samples and {len(label_names)} tracings\")"
   ]
  },
  {
   "cell_type": "markdown",
   "metadata": {
    "id": "jT3QgTqyuegg"
   },
   "source": [
    "**Making Sequence**"
   ]
  },
  {
   "cell_type": "code",
   "execution_count": 8,
   "metadata": {
    "colab": {
     "base_uri": "https://localhost:8080/"
    },
    "executionInfo": {
     "elapsed": 16377,
     "status": "ok",
     "timestamp": 1658933435949,
     "user": {
      "displayName": "Alan Jiahui Ma",
      "userId": "07426490136012605744"
     },
     "user_tz": 240
    },
    "id": "H0P1QvUHsoRM",
    "outputId": "4c8f75ac-1396-4f77-8949-4aa8bc7cc52f",
    "scrolled": true
   },
   "outputs": [
    {
     "name": "stdout",
     "output_type": "stream",
     "text": [
      "who\n",
      "who\n",
      "Training set size: 144, 28 batches\n",
      "Validation set size: 16, 3 batches\n"
     ]
    }
   ],
   "source": [
    "from src import GrainSequence\n",
    "import random\n",
    "\n",
    "validation_samples = len(input_names) // 10\n",
    "batch_size = 5\n",
    "\n",
    "random.Random(1337).shuffle(input_names)\n",
    "random.Random(1337).shuffle(label_names)\n",
    "\n",
    "train_input = input_names[:-validation_samples]\n",
    "train_label = label_names[:-validation_samples]\n",
    "train_gen = GrainSequence(batch_size, (256,256,3), train_input, train_label)\n",
    "\n",
    "valid_input = input_names[-validation_samples:]\n",
    "valid_label = label_names[-validation_samples:]\n",
    "valid_gen = GrainSequence(batch_size, (256,256,3), valid_input, valid_label)\n",
    "\n",
    "print(f\"Training set size: {len(train_input)}, {len(train_gen)} batches\")\n",
    "print(f\"Validation set size: {len(valid_input)}, {len(valid_gen)} batches\")\n",
    "\n",
    "if False:\n",
    "    _ = [print(f'{ind}:\\n{i}\\n{l}\\n\\n') for ind, (i, l) in enumerate(zip(train_input, train_label))]"
   ]
  },
  {
   "cell_type": "code",
   "execution_count": 10,
   "metadata": {
    "colab": {
     "base_uri": "https://localhost:8080/"
    },
    "executionInfo": {
     "elapsed": 649960,
     "status": "ok",
     "timestamp": 1658934096793,
     "user": {
      "displayName": "Alan Jiahui Ma",
      "userId": "07426490136012605744"
     },
     "user_tz": 240
    },
    "id": "yrhEI1FasoRN",
    "outputId": "d0a31953-2c85-4cf9-ff88-2fe160c74056"
   },
   "outputs": [
    {
     "name": "stdout",
     "output_type": "stream",
     "text": [
      "Epoch 1/30\n",
      "18/28 [==================>...........] - ETA: 34s - loss: -2932.0376"
     ]
    },
    {
     "ename": "KeyboardInterrupt",
     "evalue": "",
     "output_type": "error",
     "traceback": [
      "\u001b[0;31m---------------------------------------------------------------------------\u001b[0m",
      "\u001b[0;31mKeyboardInterrupt\u001b[0m                         Traceback (most recent call last)",
      "Cell \u001b[0;32mIn[10], line 12\u001b[0m\n\u001b[1;32m      9\u001b[0m model\u001b[38;5;241m.\u001b[39mcompile(optimizer\u001b[38;5;241m=\u001b[39mopt, loss\u001b[38;5;241m=\u001b[39m\u001b[38;5;124m\"\u001b[39m\u001b[38;5;124mbinary_crossentropy\u001b[39m\u001b[38;5;124m\"\u001b[39m)\n\u001b[1;32m     11\u001b[0m model_checkpoint \u001b[38;5;241m=\u001b[39m keras\u001b[38;5;241m.\u001b[39mcallbacks\u001b[38;5;241m.\u001b[39mModelCheckpoint(save_name, monitor\u001b[38;5;241m=\u001b[39m\u001b[38;5;124m'\u001b[39m\u001b[38;5;124mloss\u001b[39m\u001b[38;5;124m'\u001b[39m, verbose\u001b[38;5;241m=\u001b[39m\u001b[38;5;241m1\u001b[39m, save_best_only\u001b[38;5;241m=\u001b[39m\u001b[38;5;28;01mFalse\u001b[39;00m)\n\u001b[0;32m---> 12\u001b[0m history \u001b[38;5;241m=\u001b[39m \u001b[43mmodel\u001b[49m\u001b[38;5;241;43m.\u001b[39;49m\u001b[43mfit\u001b[49m\u001b[43m(\u001b[49m\n\u001b[1;32m     13\u001b[0m \u001b[43m    \u001b[49m\u001b[43mtrain_gen\u001b[49m\u001b[43m,\u001b[49m\u001b[43m \u001b[49m\n\u001b[1;32m     14\u001b[0m \u001b[43m    \u001b[49m\u001b[43msteps_per_epoch\u001b[49m\u001b[38;5;241;43m=\u001b[39;49m\u001b[38;5;28;43mlen\u001b[39;49m\u001b[43m(\u001b[49m\u001b[43mtrain_gen\u001b[49m\u001b[43m)\u001b[49m\u001b[43m,\u001b[49m\u001b[43m \u001b[49m\n\u001b[1;32m     15\u001b[0m \u001b[43m    \u001b[49m\u001b[43mepochs\u001b[49m\u001b[38;5;241;43m=\u001b[39;49m\u001b[38;5;241;43m30\u001b[39;49m\u001b[43m,\u001b[49m\u001b[43m \u001b[49m\n\u001b[1;32m     16\u001b[0m \u001b[43m    \u001b[49m\u001b[43mcallbacks\u001b[49m\u001b[38;5;241;43m=\u001b[39;49m\u001b[43m[\u001b[49m\u001b[43mmodel_checkpoint\u001b[49m\u001b[43m]\u001b[49m\u001b[43m,\u001b[49m\u001b[43m \u001b[49m\n\u001b[1;32m     17\u001b[0m \u001b[43m    \u001b[49m\u001b[43mvalidation_data\u001b[49m\u001b[38;5;241;43m=\u001b[39;49m\u001b[43mvalid_gen\u001b[49m\n\u001b[1;32m     18\u001b[0m \u001b[43m)\u001b[49m\n",
      "File \u001b[0;32m~/.pyenv/versions/3.10.3/lib/python3.10/site-packages/keras/utils/traceback_utils.py:65\u001b[0m, in \u001b[0;36mfilter_traceback.<locals>.error_handler\u001b[0;34m(*args, **kwargs)\u001b[0m\n\u001b[1;32m     63\u001b[0m filtered_tb \u001b[38;5;241m=\u001b[39m \u001b[38;5;28;01mNone\u001b[39;00m\n\u001b[1;32m     64\u001b[0m \u001b[38;5;28;01mtry\u001b[39;00m:\n\u001b[0;32m---> 65\u001b[0m     \u001b[38;5;28;01mreturn\u001b[39;00m \u001b[43mfn\u001b[49m\u001b[43m(\u001b[49m\u001b[38;5;241;43m*\u001b[39;49m\u001b[43margs\u001b[49m\u001b[43m,\u001b[49m\u001b[43m \u001b[49m\u001b[38;5;241;43m*\u001b[39;49m\u001b[38;5;241;43m*\u001b[39;49m\u001b[43mkwargs\u001b[49m\u001b[43m)\u001b[49m\n\u001b[1;32m     66\u001b[0m \u001b[38;5;28;01mexcept\u001b[39;00m \u001b[38;5;167;01mException\u001b[39;00m \u001b[38;5;28;01mas\u001b[39;00m e:\n\u001b[1;32m     67\u001b[0m     filtered_tb \u001b[38;5;241m=\u001b[39m _process_traceback_frames(e\u001b[38;5;241m.\u001b[39m__traceback__)\n",
      "File \u001b[0;32m~/.pyenv/versions/3.10.3/lib/python3.10/site-packages/keras/engine/training.py:1650\u001b[0m, in \u001b[0;36mModel.fit\u001b[0;34m(self, x, y, batch_size, epochs, verbose, callbacks, validation_split, validation_data, shuffle, class_weight, sample_weight, initial_epoch, steps_per_epoch, validation_steps, validation_batch_size, validation_freq, max_queue_size, workers, use_multiprocessing)\u001b[0m\n\u001b[1;32m   1642\u001b[0m \u001b[38;5;28;01mwith\u001b[39;00m tf\u001b[38;5;241m.\u001b[39mprofiler\u001b[38;5;241m.\u001b[39mexperimental\u001b[38;5;241m.\u001b[39mTrace(\n\u001b[1;32m   1643\u001b[0m     \u001b[38;5;124m\"\u001b[39m\u001b[38;5;124mtrain\u001b[39m\u001b[38;5;124m\"\u001b[39m,\n\u001b[1;32m   1644\u001b[0m     epoch_num\u001b[38;5;241m=\u001b[39mepoch,\n\u001b[0;32m   (...)\u001b[0m\n\u001b[1;32m   1647\u001b[0m     _r\u001b[38;5;241m=\u001b[39m\u001b[38;5;241m1\u001b[39m,\n\u001b[1;32m   1648\u001b[0m ):\n\u001b[1;32m   1649\u001b[0m     callbacks\u001b[38;5;241m.\u001b[39mon_train_batch_begin(step)\n\u001b[0;32m-> 1650\u001b[0m     tmp_logs \u001b[38;5;241m=\u001b[39m \u001b[38;5;28;43mself\u001b[39;49m\u001b[38;5;241;43m.\u001b[39;49m\u001b[43mtrain_function\u001b[49m\u001b[43m(\u001b[49m\u001b[43miterator\u001b[49m\u001b[43m)\u001b[49m\n\u001b[1;32m   1651\u001b[0m     \u001b[38;5;28;01mif\u001b[39;00m data_handler\u001b[38;5;241m.\u001b[39mshould_sync:\n\u001b[1;32m   1652\u001b[0m         context\u001b[38;5;241m.\u001b[39masync_wait()\n",
      "File \u001b[0;32m~/.pyenv/versions/3.10.3/lib/python3.10/site-packages/tensorflow/python/util/traceback_utils.py:150\u001b[0m, in \u001b[0;36mfilter_traceback.<locals>.error_handler\u001b[0;34m(*args, **kwargs)\u001b[0m\n\u001b[1;32m    148\u001b[0m filtered_tb \u001b[38;5;241m=\u001b[39m \u001b[38;5;28;01mNone\u001b[39;00m\n\u001b[1;32m    149\u001b[0m \u001b[38;5;28;01mtry\u001b[39;00m:\n\u001b[0;32m--> 150\u001b[0m   \u001b[38;5;28;01mreturn\u001b[39;00m \u001b[43mfn\u001b[49m\u001b[43m(\u001b[49m\u001b[38;5;241;43m*\u001b[39;49m\u001b[43margs\u001b[49m\u001b[43m,\u001b[49m\u001b[43m \u001b[49m\u001b[38;5;241;43m*\u001b[39;49m\u001b[38;5;241;43m*\u001b[39;49m\u001b[43mkwargs\u001b[49m\u001b[43m)\u001b[49m\n\u001b[1;32m    151\u001b[0m \u001b[38;5;28;01mexcept\u001b[39;00m \u001b[38;5;167;01mException\u001b[39;00m \u001b[38;5;28;01mas\u001b[39;00m e:\n\u001b[1;32m    152\u001b[0m   filtered_tb \u001b[38;5;241m=\u001b[39m _process_traceback_frames(e\u001b[38;5;241m.\u001b[39m__traceback__)\n",
      "File \u001b[0;32m~/.pyenv/versions/3.10.3/lib/python3.10/site-packages/tensorflow/python/eager/polymorphic_function/polymorphic_function.py:880\u001b[0m, in \u001b[0;36mFunction.__call__\u001b[0;34m(self, *args, **kwds)\u001b[0m\n\u001b[1;32m    877\u001b[0m compiler \u001b[38;5;241m=\u001b[39m \u001b[38;5;124m\"\u001b[39m\u001b[38;5;124mxla\u001b[39m\u001b[38;5;124m\"\u001b[39m \u001b[38;5;28;01mif\u001b[39;00m \u001b[38;5;28mself\u001b[39m\u001b[38;5;241m.\u001b[39m_jit_compile \u001b[38;5;28;01melse\u001b[39;00m \u001b[38;5;124m\"\u001b[39m\u001b[38;5;124mnonXla\u001b[39m\u001b[38;5;124m\"\u001b[39m\n\u001b[1;32m    879\u001b[0m \u001b[38;5;28;01mwith\u001b[39;00m OptionalXlaContext(\u001b[38;5;28mself\u001b[39m\u001b[38;5;241m.\u001b[39m_jit_compile):\n\u001b[0;32m--> 880\u001b[0m   result \u001b[38;5;241m=\u001b[39m \u001b[38;5;28;43mself\u001b[39;49m\u001b[38;5;241;43m.\u001b[39;49m\u001b[43m_call\u001b[49m\u001b[43m(\u001b[49m\u001b[38;5;241;43m*\u001b[39;49m\u001b[43margs\u001b[49m\u001b[43m,\u001b[49m\u001b[43m \u001b[49m\u001b[38;5;241;43m*\u001b[39;49m\u001b[38;5;241;43m*\u001b[39;49m\u001b[43mkwds\u001b[49m\u001b[43m)\u001b[49m\n\u001b[1;32m    882\u001b[0m new_tracing_count \u001b[38;5;241m=\u001b[39m \u001b[38;5;28mself\u001b[39m\u001b[38;5;241m.\u001b[39mexperimental_get_tracing_count()\n\u001b[1;32m    883\u001b[0m without_tracing \u001b[38;5;241m=\u001b[39m (tracing_count \u001b[38;5;241m==\u001b[39m new_tracing_count)\n",
      "File \u001b[0;32m~/.pyenv/versions/3.10.3/lib/python3.10/site-packages/tensorflow/python/eager/polymorphic_function/polymorphic_function.py:912\u001b[0m, in \u001b[0;36mFunction._call\u001b[0;34m(self, *args, **kwds)\u001b[0m\n\u001b[1;32m    909\u001b[0m   \u001b[38;5;28mself\u001b[39m\u001b[38;5;241m.\u001b[39m_lock\u001b[38;5;241m.\u001b[39mrelease()\n\u001b[1;32m    910\u001b[0m   \u001b[38;5;66;03m# In this case we have created variables on the first call, so we run the\u001b[39;00m\n\u001b[1;32m    911\u001b[0m   \u001b[38;5;66;03m# defunned version which is guaranteed to never create variables.\u001b[39;00m\n\u001b[0;32m--> 912\u001b[0m   \u001b[38;5;28;01mreturn\u001b[39;00m \u001b[38;5;28;43mself\u001b[39;49m\u001b[38;5;241;43m.\u001b[39;49m\u001b[43m_no_variable_creation_fn\u001b[49m\u001b[43m(\u001b[49m\u001b[38;5;241;43m*\u001b[39;49m\u001b[43margs\u001b[49m\u001b[43m,\u001b[49m\u001b[43m \u001b[49m\u001b[38;5;241;43m*\u001b[39;49m\u001b[38;5;241;43m*\u001b[39;49m\u001b[43mkwds\u001b[49m\u001b[43m)\u001b[49m  \u001b[38;5;66;03m# pylint: disable=not-callable\u001b[39;00m\n\u001b[1;32m    913\u001b[0m \u001b[38;5;28;01melif\u001b[39;00m \u001b[38;5;28mself\u001b[39m\u001b[38;5;241m.\u001b[39m_variable_creation_fn \u001b[38;5;129;01mis\u001b[39;00m \u001b[38;5;129;01mnot\u001b[39;00m \u001b[38;5;28;01mNone\u001b[39;00m:\n\u001b[1;32m    914\u001b[0m   \u001b[38;5;66;03m# Release the lock early so that multiple threads can perform the call\u001b[39;00m\n\u001b[1;32m    915\u001b[0m   \u001b[38;5;66;03m# in parallel.\u001b[39;00m\n\u001b[1;32m    916\u001b[0m   \u001b[38;5;28mself\u001b[39m\u001b[38;5;241m.\u001b[39m_lock\u001b[38;5;241m.\u001b[39mrelease()\n",
      "File \u001b[0;32m~/.pyenv/versions/3.10.3/lib/python3.10/site-packages/tensorflow/python/eager/polymorphic_function/tracing_compiler.py:134\u001b[0m, in \u001b[0;36mTracingCompiler.__call__\u001b[0;34m(self, *args, **kwargs)\u001b[0m\n\u001b[1;32m    131\u001b[0m \u001b[38;5;28;01mwith\u001b[39;00m \u001b[38;5;28mself\u001b[39m\u001b[38;5;241m.\u001b[39m_lock:\n\u001b[1;32m    132\u001b[0m   (concrete_function,\n\u001b[1;32m    133\u001b[0m    filtered_flat_args) \u001b[38;5;241m=\u001b[39m \u001b[38;5;28mself\u001b[39m\u001b[38;5;241m.\u001b[39m_maybe_define_function(args, kwargs)\n\u001b[0;32m--> 134\u001b[0m \u001b[38;5;28;01mreturn\u001b[39;00m \u001b[43mconcrete_function\u001b[49m\u001b[38;5;241;43m.\u001b[39;49m\u001b[43m_call_flat\u001b[49m\u001b[43m(\u001b[49m\n\u001b[1;32m    135\u001b[0m \u001b[43m    \u001b[49m\u001b[43mfiltered_flat_args\u001b[49m\u001b[43m,\u001b[49m\u001b[43m \u001b[49m\u001b[43mcaptured_inputs\u001b[49m\u001b[38;5;241;43m=\u001b[39;49m\u001b[43mconcrete_function\u001b[49m\u001b[38;5;241;43m.\u001b[39;49m\u001b[43mcaptured_inputs\u001b[49m\u001b[43m)\u001b[49m\n",
      "File \u001b[0;32m~/.pyenv/versions/3.10.3/lib/python3.10/site-packages/tensorflow/python/eager/polymorphic_function/monomorphic_function.py:1745\u001b[0m, in \u001b[0;36mConcreteFunction._call_flat\u001b[0;34m(self, args, captured_inputs, cancellation_manager)\u001b[0m\n\u001b[1;32m   1741\u001b[0m possible_gradient_type \u001b[38;5;241m=\u001b[39m gradients_util\u001b[38;5;241m.\u001b[39mPossibleTapeGradientTypes(args)\n\u001b[1;32m   1742\u001b[0m \u001b[38;5;28;01mif\u001b[39;00m (possible_gradient_type \u001b[38;5;241m==\u001b[39m gradients_util\u001b[38;5;241m.\u001b[39mPOSSIBLE_GRADIENT_TYPES_NONE\n\u001b[1;32m   1743\u001b[0m     \u001b[38;5;129;01mand\u001b[39;00m executing_eagerly):\n\u001b[1;32m   1744\u001b[0m   \u001b[38;5;66;03m# No tape is watching; skip to running the function.\u001b[39;00m\n\u001b[0;32m-> 1745\u001b[0m   \u001b[38;5;28;01mreturn\u001b[39;00m \u001b[38;5;28mself\u001b[39m\u001b[38;5;241m.\u001b[39m_build_call_outputs(\u001b[38;5;28;43mself\u001b[39;49m\u001b[38;5;241;43m.\u001b[39;49m\u001b[43m_inference_function\u001b[49m\u001b[38;5;241;43m.\u001b[39;49m\u001b[43mcall\u001b[49m\u001b[43m(\u001b[49m\n\u001b[1;32m   1746\u001b[0m \u001b[43m      \u001b[49m\u001b[43mctx\u001b[49m\u001b[43m,\u001b[49m\u001b[43m \u001b[49m\u001b[43margs\u001b[49m\u001b[43m,\u001b[49m\u001b[43m \u001b[49m\u001b[43mcancellation_manager\u001b[49m\u001b[38;5;241;43m=\u001b[39;49m\u001b[43mcancellation_manager\u001b[49m\u001b[43m)\u001b[49m)\n\u001b[1;32m   1747\u001b[0m forward_backward \u001b[38;5;241m=\u001b[39m \u001b[38;5;28mself\u001b[39m\u001b[38;5;241m.\u001b[39m_select_forward_and_backward_functions(\n\u001b[1;32m   1748\u001b[0m     args,\n\u001b[1;32m   1749\u001b[0m     possible_gradient_type,\n\u001b[1;32m   1750\u001b[0m     executing_eagerly)\n\u001b[1;32m   1751\u001b[0m forward_function, args_with_tangents \u001b[38;5;241m=\u001b[39m forward_backward\u001b[38;5;241m.\u001b[39mforward()\n",
      "File \u001b[0;32m~/.pyenv/versions/3.10.3/lib/python3.10/site-packages/tensorflow/python/eager/polymorphic_function/monomorphic_function.py:378\u001b[0m, in \u001b[0;36m_EagerDefinedFunction.call\u001b[0;34m(self, ctx, args, cancellation_manager)\u001b[0m\n\u001b[1;32m    376\u001b[0m \u001b[38;5;28;01mwith\u001b[39;00m _InterpolateFunctionError(\u001b[38;5;28mself\u001b[39m):\n\u001b[1;32m    377\u001b[0m   \u001b[38;5;28;01mif\u001b[39;00m cancellation_manager \u001b[38;5;129;01mis\u001b[39;00m \u001b[38;5;28;01mNone\u001b[39;00m:\n\u001b[0;32m--> 378\u001b[0m     outputs \u001b[38;5;241m=\u001b[39m \u001b[43mexecute\u001b[49m\u001b[38;5;241;43m.\u001b[39;49m\u001b[43mexecute\u001b[49m\u001b[43m(\u001b[49m\n\u001b[1;32m    379\u001b[0m \u001b[43m        \u001b[49m\u001b[38;5;28;43mstr\u001b[39;49m\u001b[43m(\u001b[49m\u001b[38;5;28;43mself\u001b[39;49m\u001b[38;5;241;43m.\u001b[39;49m\u001b[43msignature\u001b[49m\u001b[38;5;241;43m.\u001b[39;49m\u001b[43mname\u001b[49m\u001b[43m)\u001b[49m\u001b[43m,\u001b[49m\n\u001b[1;32m    380\u001b[0m \u001b[43m        \u001b[49m\u001b[43mnum_outputs\u001b[49m\u001b[38;5;241;43m=\u001b[39;49m\u001b[38;5;28;43mself\u001b[39;49m\u001b[38;5;241;43m.\u001b[39;49m\u001b[43m_num_outputs\u001b[49m\u001b[43m,\u001b[49m\n\u001b[1;32m    381\u001b[0m \u001b[43m        \u001b[49m\u001b[43minputs\u001b[49m\u001b[38;5;241;43m=\u001b[39;49m\u001b[43margs\u001b[49m\u001b[43m,\u001b[49m\n\u001b[1;32m    382\u001b[0m \u001b[43m        \u001b[49m\u001b[43mattrs\u001b[49m\u001b[38;5;241;43m=\u001b[39;49m\u001b[43mattrs\u001b[49m\u001b[43m,\u001b[49m\n\u001b[1;32m    383\u001b[0m \u001b[43m        \u001b[49m\u001b[43mctx\u001b[49m\u001b[38;5;241;43m=\u001b[39;49m\u001b[43mctx\u001b[49m\u001b[43m)\u001b[49m\n\u001b[1;32m    384\u001b[0m   \u001b[38;5;28;01melse\u001b[39;00m:\n\u001b[1;32m    385\u001b[0m     outputs \u001b[38;5;241m=\u001b[39m execute\u001b[38;5;241m.\u001b[39mexecute_with_cancellation(\n\u001b[1;32m    386\u001b[0m         \u001b[38;5;28mstr\u001b[39m(\u001b[38;5;28mself\u001b[39m\u001b[38;5;241m.\u001b[39msignature\u001b[38;5;241m.\u001b[39mname),\n\u001b[1;32m    387\u001b[0m         num_outputs\u001b[38;5;241m=\u001b[39m\u001b[38;5;28mself\u001b[39m\u001b[38;5;241m.\u001b[39m_num_outputs,\n\u001b[0;32m   (...)\u001b[0m\n\u001b[1;32m    390\u001b[0m         ctx\u001b[38;5;241m=\u001b[39mctx,\n\u001b[1;32m    391\u001b[0m         cancellation_manager\u001b[38;5;241m=\u001b[39mcancellation_manager)\n",
      "File \u001b[0;32m~/.pyenv/versions/3.10.3/lib/python3.10/site-packages/tensorflow/python/eager/execute.py:52\u001b[0m, in \u001b[0;36mquick_execute\u001b[0;34m(op_name, num_outputs, inputs, attrs, ctx, name)\u001b[0m\n\u001b[1;32m     50\u001b[0m \u001b[38;5;28;01mtry\u001b[39;00m:\n\u001b[1;32m     51\u001b[0m   ctx\u001b[38;5;241m.\u001b[39mensure_initialized()\n\u001b[0;32m---> 52\u001b[0m   tensors \u001b[38;5;241m=\u001b[39m \u001b[43mpywrap_tfe\u001b[49m\u001b[38;5;241;43m.\u001b[39;49m\u001b[43mTFE_Py_Execute\u001b[49m\u001b[43m(\u001b[49m\u001b[43mctx\u001b[49m\u001b[38;5;241;43m.\u001b[39;49m\u001b[43m_handle\u001b[49m\u001b[43m,\u001b[49m\u001b[43m \u001b[49m\u001b[43mdevice_name\u001b[49m\u001b[43m,\u001b[49m\u001b[43m \u001b[49m\u001b[43mop_name\u001b[49m\u001b[43m,\u001b[49m\n\u001b[1;32m     53\u001b[0m \u001b[43m                                      \u001b[49m\u001b[43minputs\u001b[49m\u001b[43m,\u001b[49m\u001b[43m \u001b[49m\u001b[43mattrs\u001b[49m\u001b[43m,\u001b[49m\u001b[43m \u001b[49m\u001b[43mnum_outputs\u001b[49m\u001b[43m)\u001b[49m\n\u001b[1;32m     54\u001b[0m \u001b[38;5;28;01mexcept\u001b[39;00m core\u001b[38;5;241m.\u001b[39m_NotOkStatusException \u001b[38;5;28;01mas\u001b[39;00m e:\n\u001b[1;32m     55\u001b[0m   \u001b[38;5;28;01mif\u001b[39;00m name \u001b[38;5;129;01mis\u001b[39;00m \u001b[38;5;129;01mnot\u001b[39;00m \u001b[38;5;28;01mNone\u001b[39;00m:\n",
      "\u001b[0;31mKeyboardInterrupt\u001b[0m: "
     ]
    }
   ],
   "source": [
    "from src import get_model_3d\n",
    "from tensorflow import keras\n",
    "\n",
    "save_name = 'unet_grain_atarashii_3d.hdf5'\n",
    "\n",
    "model = get_model_3d(img_size = (256, 256), num_classes = 1)\n",
    "# model.summary()\n",
    "opt = keras.optimizers.Adam(learning_rate = 1e-4)\n",
    "model.compile(optimizer=opt, loss=\"binary_crossentropy\")\n",
    "\n",
    "model_checkpoint = keras.callbacks.ModelCheckpoint(save_name, monitor='loss', verbose=1, save_best_only=False)\n",
    "history = model.fit(\n",
    "    train_gen, \n",
    "    steps_per_epoch=len(train_gen), \n",
    "    epochs=30, \n",
    "    callbacks=[model_checkpoint], \n",
    "    validation_data=valid_gen\n",
    ")"
   ]
  },
  {
   "cell_type": "code",
   "execution_count": 9,
   "metadata": {
    "colab": {
     "base_uri": "https://localhost:8080/",
     "height": 350
    },
    "executionInfo": {
     "elapsed": 547,
     "status": "ok",
     "timestamp": 1658934164025,
     "user": {
      "displayName": "Alan Jiahui Ma",
      "userId": "07426490136012605744"
     },
     "user_tz": 240
    },
    "id": "GlcQzaDoNFQd",
    "outputId": "cddee336-0a94-4432-b362-3f135fa3e3ae"
   },
   "outputs": [
    {
     "ename": "NameError",
     "evalue": "name 'history' is not defined",
     "output_type": "error",
     "traceback": [
      "\u001b[0;31m---------------------------------------------------------------------------\u001b[0m",
      "\u001b[0;31mNameError\u001b[0m                                 Traceback (most recent call last)",
      "Cell \u001b[0;32mIn[9], line 3\u001b[0m\n\u001b[1;32m      1\u001b[0m \u001b[38;5;28;01mimport\u001b[39;00m \u001b[38;5;21;01mmatplotlib\u001b[39;00m\u001b[38;5;21;01m.\u001b[39;00m\u001b[38;5;21;01mpyplot\u001b[39;00m \u001b[38;5;28;01mas\u001b[39;00m \u001b[38;5;21;01mplt\u001b[39;00m\n\u001b[0;32m----> 3\u001b[0m train_loss \u001b[38;5;241m=\u001b[39m \u001b[43mhistory\u001b[49m\u001b[38;5;241m.\u001b[39mhistory[\u001b[38;5;124m'\u001b[39m\u001b[38;5;124mloss\u001b[39m\u001b[38;5;124m'\u001b[39m]\n\u001b[1;32m      4\u001b[0m valid_loss \u001b[38;5;241m=\u001b[39m history\u001b[38;5;241m.\u001b[39mhistory[\u001b[38;5;124m'\u001b[39m\u001b[38;5;124mval_loss\u001b[39m\u001b[38;5;124m'\u001b[39m]\n\u001b[1;32m      6\u001b[0m plt\u001b[38;5;241m.\u001b[39mfigure(figsize\u001b[38;5;241m=\u001b[39m(\u001b[38;5;241m10\u001b[39m,\u001b[38;5;241m5\u001b[39m), facecolor\u001b[38;5;241m=\u001b[39m\u001b[38;5;124m'\u001b[39m\u001b[38;5;124mWhite\u001b[39m\u001b[38;5;124m'\u001b[39m)\n",
      "\u001b[0;31mNameError\u001b[0m: name 'history' is not defined"
     ]
    }
   ],
   "source": [
    "import matplotlib.pyplot as plt\n",
    "\n",
    "train_loss = history.history['loss']\n",
    "valid_loss = history.history['val_loss']\n",
    "\n",
    "plt.figure(figsize=(10,5), facecolor='White')\n",
    "\n",
    "plt.title(\"Loss With Pre Augmentation and Full Dataset (b5, s59)\")\n",
    "plt.xlabel(\"Epochs\")\n",
    "plt.plot(train_loss, label='Training Loss')\n",
    "plt.plot(valid_loss, label='Validation Loss')\n",
    "plt.legend()\n",
    "plt.show()"
   ]
  },
  {
   "cell_type": "code",
   "execution_count": null,
   "metadata": {
    "id": "Go8tRrk3BR2e"
   },
   "outputs": [],
   "source": []
  },
  {
   "cell_type": "markdown",
   "metadata": {
    "id": "-GCGx5Ezftm3"
   },
   "source": [
    "# N-Channel Testing\n",
    "\n",
    "So the idea is that we'll use this file structure and point to the test_dir. This section runs the images through the U-Net, saving the outputs to the predict folder\n",
    "\n",
    "````\n",
    "test_dir\n",
    "├── FOV1\n",
    "│   ├── predict\n",
    "│   │   ├── img1.png\n",
    "│   │   ├── img2.png\n",
    "│   │   ├── img3.png\n",
    "│   │   └── img4.png\n",
    "│   ├── raw\n",
    "│   │   ├── img1.png\n",
    "│   │   ├── img2.png\n",
    "│   │   ├── img3.png\n",
    "│   │   └── img4.png\n",
    "│   └── unet_skel.png\n",
    "├── FOV2\n",
    "│   ├── predict\n",
    "│   │   ├── img1.png\n",
    "│   │   └── img2.png\n",
    "│   ├── raw\n",
    "│   │   ├── img1.png\n",
    "│   │   └── img2.png\n",
    "│   └── unet_skel.png\n",
    "└── FOV3\n",
    "    ├── predict\n",
    "    │   ├── img1.png\n",
    "    │   ├── img2.png\n",
    "    │   └── img3.png\n",
    "    ├── raw\n",
    "    │   ├── img1.png\n",
    "    │   ├── img2.png\n",
    "    │   └── img3.png\n",
    "    └── unet_skel.png\n",
    "````"
   ]
  },
  {
   "cell_type": "code",
   "execution_count": null,
   "metadata": {
    "colab": {
     "base_uri": "https://localhost:8080/",
     "height": 1000
    },
    "executionInfo": {
     "elapsed": 128809,
     "status": "ok",
     "timestamp": 1659634326170,
     "user": {
      "displayName": "Alan Jiahui Ma",
      "userId": "07426490136012605744"
     },
     "user_tz": 240
    },
    "id": "goJg3DzMftm9",
    "outputId": "5ebf3a2b-4ad9-451a-f641-dea3da47dce3",
    "scrolled": true
   },
   "outputs": [
    {
     "name": "stdout",
     "output_type": "stream",
     "text": [
      "60 images found\n",
      "60/60 [==============================] - 62s 665ms/step\n",
      "\n",
      "Saving to data/test_Pt_Axon_3_denoised/0/predict/0.png\n",
      "Min: 128.54458618164062, Max: 254.99993896484375, Shape: (1216, 1216)\n"
     ]
    },
    {
     "name": "stderr",
     "output_type": "stream",
     "text": [
      "/usr/local/lib/python3.7/dist-packages/skimage/io/_plugins/matplotlib_plugin.py:150: UserWarning: Float image out of standard range; displaying image with stretched contrast.\n",
      "  lo, hi, cmap = _get_display_range(image)\n"
     ]
    },
    {
     "data": {
      "image/png": "[encoded data removed]",
      "text/plain": [
       "<Figure size 432x288 with 2 Axes>"
      ]
     },
     "metadata": {
      "needs_background": "light"
     },
     "output_type": "display_data"
    },
    {
     "name": "stdout",
     "output_type": "stream",
     "text": [
      "\n",
      "Saving to data/test_Pt_Axon_3_denoised/0/predict/1.png\n",
      "Min: 128.54458618164062, Max: 254.99993896484375, Shape: (1216, 1216)\n",
      "\n",
      "Saving to data/test_Pt_Axon_3_denoised/0/predict/2.png\n",
      "Min: 128.54458618164062, Max: 254.99996948242188, Shape: (1216, 1216)\n",
      "\n",
      "Saving to data/test_Pt_Axon_3_denoised/1/predict/262.png\n",
      "Min: 128.54458618164062, Max: 254.99996948242188, Shape: (1216, 1216)\n",
      "\n",
      "Saving to data/test_Pt_Axon_3_denoised/1/predict/260.png\n",
      "Min: 128.54458618164062, Max: 254.99996948242188, Shape: (1216, 1216)\n",
      "\n",
      "Saving to data/test_Pt_Axon_3_denoised/1/predict/261.png\n",
      "Min: 128.54458618164062, Max: 255.0, Shape: (1216, 1216)\n",
      "\n",
      "Saving to data/test_Pt_Axon_3_denoised/2/predict/520.png\n",
      "Min: 128.54458618164062, Max: 255.0, Shape: (1216, 1216)\n",
      "\n",
      "Saving to data/test_Pt_Axon_3_denoised/2/predict/521.png\n",
      "Min: 128.54458618164062, Max: 255.0, Shape: (1216, 1216)\n",
      "\n",
      "Saving to data/test_Pt_Axon_3_denoised/2/predict/522.png\n",
      "Min: 128.54458618164062, Max: 255.0, Shape: (1216, 1216)\n",
      "\n",
      "Saving to data/test_Pt_Axon_3_denoised/3/predict/780.png\n",
      "Min: 128.54458618164062, Max: 254.99996948242188, Shape: (1216, 1216)\n",
      "\n",
      "Saving to data/test_Pt_Axon_3_denoised/3/predict/781.png\n",
      "Min: 128.54458618164062, Max: 254.99996948242188, Shape: (1216, 1216)\n",
      "\n",
      "Saving to data/test_Pt_Axon_3_denoised/3/predict/782.png\n",
      "Min: 128.54458618164062, Max: 254.99996948242188, Shape: (1216, 1216)\n",
      "\n",
      "Saving to data/test_Pt_Axon_3_denoised/4/predict/1040.png\n",
      "Min: 128.54458618164062, Max: 254.99996948242188, Shape: (1216, 1216)\n",
      "\n",
      "Saving to data/test_Pt_Axon_3_denoised/4/predict/1041.png\n",
      "Min: 128.54458618164062, Max: 255.0, Shape: (1216, 1216)\n",
      "\n",
      "Saving to data/test_Pt_Axon_3_denoised/4/predict/1042.png\n",
      "Min: 128.54458618164062, Max: 254.99990844726562, Shape: (1216, 1216)\n",
      "\n",
      "Saving to data/test_Pt_Axon_3_denoised/5/predict/1300.png\n",
      "Min: 128.54458618164062, Max: 255.0, Shape: (1216, 1216)\n",
      "\n",
      "Saving to data/test_Pt_Axon_3_denoised/5/predict/1301.png\n",
      "Min: 128.54458618164062, Max: 255.0, Shape: (1216, 1216)\n",
      "\n",
      "Saving to data/test_Pt_Axon_3_denoised/5/predict/1302.png\n",
      "Min: 128.54458618164062, Max: 255.0, Shape: (1216, 1216)\n",
      "\n",
      "Saving to data/test_Pt_Axon_3_denoised/6/predict/1561.png\n",
      "Min: 128.54458618164062, Max: 255.0, Shape: (1216, 1216)\n",
      "\n",
      "Saving to data/test_Pt_Axon_3_denoised/6/predict/1560.png\n",
      "Min: 128.54458618164062, Max: 255.0, Shape: (1216, 1216)\n",
      "\n",
      "Saving to data/test_Pt_Axon_3_denoised/6/predict/1562.png\n",
      "Min: 128.54458618164062, Max: 254.99996948242188, Shape: (1216, 1216)\n",
      "\n",
      "Saving to data/test_Pt_Axon_3_denoised/7/predict/1820.png\n",
      "Min: 128.54458618164062, Max: 255.0, Shape: (1216, 1216)\n",
      "\n",
      "Saving to data/test_Pt_Axon_3_denoised/7/predict/1821.png\n",
      "Min: 128.54458618164062, Max: 254.99996948242188, Shape: (1216, 1216)\n",
      "\n",
      "Saving to data/test_Pt_Axon_3_denoised/7/predict/1822.png\n",
      "Min: 128.54458618164062, Max: 255.0, Shape: (1216, 1216)\n",
      "\n",
      "Saving to data/test_Pt_Axon_3_denoised/8/predict/2080.png\n",
      "Min: 128.54458618164062, Max: 255.0, Shape: (1216, 1216)\n",
      "\n",
      "Saving to data/test_Pt_Axon_3_denoised/8/predict/2081.png\n",
      "Min: 128.54458618164062, Max: 255.0, Shape: (1216, 1216)\n",
      "\n",
      "Saving to data/test_Pt_Axon_3_denoised/8/predict/2082.png\n",
      "Min: 128.54458618164062, Max: 255.0, Shape: (1216, 1216)\n",
      "\n",
      "Saving to data/test_Pt_Axon_3_denoised/9/predict/2340.png\n",
      "Min: 128.54458618164062, Max: 255.0, Shape: (1216, 1216)\n",
      "\n",
      "Saving to data/test_Pt_Axon_3_denoised/9/predict/2341.png\n",
      "Min: 128.54458618164062, Max: 255.0, Shape: (1216, 1216)\n",
      "\n",
      "Saving to data/test_Pt_Axon_3_denoised/9/predict/2342.png\n",
      "Min: 128.54458618164062, Max: 255.0, Shape: (1216, 1216)\n",
      "\n",
      "Saving to data/test_Pt_Axon_3_denoised/10/predict/2600.png\n",
      "Min: 128.54458618164062, Max: 255.0, Shape: (1216, 1216)\n",
      "\n",
      "Saving to data/test_Pt_Axon_3_denoised/10/predict/2601.png\n",
      "Min: 128.54458618164062, Max: 255.0, Shape: (1216, 1216)\n",
      "\n",
      "Saving to data/test_Pt_Axon_3_denoised/10/predict/2602.png\n",
      "Min: 128.54458618164062, Max: 255.0, Shape: (1216, 1216)\n",
      "\n",
      "Saving to data/test_Pt_Axon_3_denoised/11/predict/2860.png\n",
      "Min: 128.54458618164062, Max: 255.0, Shape: (1216, 1216)\n",
      "\n",
      "Saving to data/test_Pt_Axon_3_denoised/11/predict/2861.png\n",
      "Min: 128.54458618164062, Max: 255.0, Shape: (1216, 1216)\n",
      "\n",
      "Saving to data/test_Pt_Axon_3_denoised/11/predict/2862.png\n",
      "Min: 128.54458618164062, Max: 255.0, Shape: (1216, 1216)\n",
      "\n",
      "Saving to data/test_Pt_Axon_3_denoised/12/predict/3120.png\n",
      "Min: 128.54458618164062, Max: 255.0, Shape: (1216, 1216)\n",
      "\n",
      "Saving to data/test_Pt_Axon_3_denoised/12/predict/3121.png\n",
      "Min: 128.54458618164062, Max: 255.0, Shape: (1216, 1216)\n",
      "\n",
      "Saving to data/test_Pt_Axon_3_denoised/12/predict/3122.png\n",
      "Min: 128.54458618164062, Max: 255.0, Shape: (1216, 1216)\n",
      "\n",
      "Saving to data/test_Pt_Axon_3_denoised/13/predict/3380.png\n",
      "Min: 128.54458618164062, Max: 255.0, Shape: (1216, 1216)\n",
      "\n",
      "Saving to data/test_Pt_Axon_3_denoised/13/predict/3382.png\n",
      "Min: 128.54458618164062, Max: 255.0, Shape: (1216, 1216)\n",
      "\n",
      "Saving to data/test_Pt_Axon_3_denoised/13/predict/3381.png\n",
      "Min: 128.54458618164062, Max: 255.0, Shape: (1216, 1216)\n",
      "\n",
      "Saving to data/test_Pt_Axon_3_denoised/14/predict/3640.png\n",
      "Min: 128.54458618164062, Max: 255.0, Shape: (1216, 1216)\n",
      "\n",
      "Saving to data/test_Pt_Axon_3_denoised/14/predict/3641.png\n",
      "Min: 128.54458618164062, Max: 255.0, Shape: (1216, 1216)\n",
      "\n",
      "Saving to data/test_Pt_Axon_3_denoised/14/predict/3642.png\n",
      "Min: 128.54458618164062, Max: 255.0, Shape: (1216, 1216)\n",
      "\n",
      "Saving to data/test_Pt_Axon_3_denoised/15/predict/3900.png\n",
      "Min: 128.54458618164062, Max: 255.0, Shape: (1216, 1216)\n",
      "\n",
      "Saving to data/test_Pt_Axon_3_denoised/15/predict/3901.png\n",
      "Min: 128.54458618164062, Max: 255.0, Shape: (1216, 1216)\n",
      "\n",
      "Saving to data/test_Pt_Axon_3_denoised/15/predict/3902.png\n",
      "Min: 128.54458618164062, Max: 255.0, Shape: (1216, 1216)\n",
      "\n",
      "Saving to data/test_Pt_Axon_3_denoised/16/predict/4160.png\n",
      "Min: 128.54458618164062, Max: 255.0, Shape: (1216, 1216)\n",
      "\n",
      "Saving to data/test_Pt_Axon_3_denoised/16/predict/4162.png\n",
      "Min: 128.54458618164062, Max: 255.0, Shape: (1216, 1216)\n",
      "\n",
      "Saving to data/test_Pt_Axon_3_denoised/16/predict/4161.png\n",
      "Min: 128.54458618164062, Max: 255.0, Shape: (1216, 1216)\n",
      "\n",
      "Saving to data/test_Pt_Axon_3_denoised/17/predict/4420.png\n",
      "Min: 128.54458618164062, Max: 255.0, Shape: (1216, 1216)\n",
      "\n",
      "Saving to data/test_Pt_Axon_3_denoised/17/predict/4422.png\n",
      "Min: 128.54458618164062, Max: 255.0, Shape: (1216, 1216)\n",
      "\n",
      "Saving to data/test_Pt_Axon_3_denoised/17/predict/4421.png\n",
      "Min: 128.54458618164062, Max: 255.0, Shape: (1216, 1216)\n",
      "\n",
      "Saving to data/test_Pt_Axon_3_denoised/18/predict/4680.png\n",
      "Min: 128.54458618164062, Max: 255.0, Shape: (1216, 1216)\n",
      "\n",
      "Saving to data/test_Pt_Axon_3_denoised/18/predict/4681.png\n",
      "Min: 128.54458618164062, Max: 255.0, Shape: (1216, 1216)\n",
      "\n",
      "Saving to data/test_Pt_Axon_3_denoised/18/predict/4682.png\n",
      "Min: 128.54458618164062, Max: 255.0, Shape: (1216, 1216)\n",
      "\n",
      "Saving to data/test_Pt_Axon_3_denoised/19/predict/4940.png\n",
      "Min: 128.54458618164062, Max: 255.0, Shape: (1216, 1216)\n",
      "\n",
      "Saving to data/test_Pt_Axon_3_denoised/19/predict/4941.png\n",
      "Min: 128.54458618164062, Max: 255.0, Shape: (1216, 1216)\n",
      "\n",
      "Saving to data/test_Pt_Axon_3_denoised/19/predict/4942.png\n",
      "Min: 128.54458618164062, Max: 255.0, Shape: (1216, 1216)\n"
     ]
    }
   ],
   "source": [
    "import os\n",
    "from pathlib import Path\n",
    "from skimage import io\n",
    "from src import get_unet, image_generator\n",
    "import numpy as np\n",
    "\n",
    "target_size = (1216,1216)             # 1216 for pt images\n",
    "test_dir = Path('data/test_Pt_Axon_3_denoised')              # directory you want to test goes here\n",
    "\n",
    "paths = list(test_dir.glob('*/raw/*.png'))\n",
    "print(f'{len(paths)} images found')\n",
    "img_gen = image_generator(paths, target_size=target_size)\n",
    "\n",
    "model = get_unet(input_size=(target_size + (1,)))      \n",
    "model.load_weights(\"unet_grain_nouveaux_pretune.hdf5\")                #name of the network (hdf5 file) you want to use goes here\n",
    "results = 255 * model.predict(img_gen, steps=len(paths), verbose=1)\n",
    "\n",
    "assert len(paths) == len(results), 'Not all the files ran'\n",
    "\n",
    "for ind, path in enumerate(paths): \n",
    "    save_dir = path.parents[1] / 'predict'\n",
    "    if not save_dir.is_dir():\n",
    "        print('made dir')\n",
    "        save_dir.mkdir()\n",
    "        \n",
    "    save_path = save_dir / path.with_suffix('.png').name\n",
    "    result = results[ind, :, :, 0]\n",
    "    \n",
    "    print(f\"\\nSaving to {save_path}\")\n",
    "    print(f\"Min: {np.min(result)}, Max: {np.max(result)}, Shape: {result.shape}\")\n",
    "    io.imsave(save_path, result.astype('uint8'))\n",
    "    if ind == 0:\n",
    "        io.imshow(result)\n",
    "        io.show()\n"
   ]
  },
  {
   "cell_type": "code",
   "execution_count": null,
   "metadata": {
    "id": "y9RK6tf7We8s"
   },
   "outputs": [],
   "source": [
    "        "
   ]
  },
  {
   "cell_type": "markdown",
   "metadata": {
    "id": "3w1CEhlEXxi6"
   },
   "source": [
    "# Post Processing\n",
    "```\n",
    "kwargs:\n",
    "    'compilation': (default 'min') defines the image compilation technique\n",
    "    'liberal_thresh': (default 200) liberal threshold for double threshold\n",
    "    'conservative_thresh': (default 160) conservative threshold for double threshold\n",
    "    'invert_double_thresh': (default True) Changes < to > in double threshold\n",
    "    'n_dilations': (default 3) Number of dilations to apply in closing\n",
    "    'min_grain_area': (default 100) Max size of a hole to close\n",
    "    'prune_size': (default 30) Size to prune with plantcv\n",
    "    'out_dict': (default False) return a dict with all the intermediate steps\n",
    "```\n",
    "\n",
    "Workflow goes compilation, double threshold, dilate, skeletonize, and clean"
   ]
  },
  {
   "cell_type": "code",
   "execution_count": null,
   "metadata": {
    "colab": {
     "base_uri": "https://localhost:8080/",
     "height": 1000,
     "output_embedded_package_id": "1UJXJtP719i_CcTyjfL-IevpzMpF0fiAY"
    },
    "executionInfo": {
     "elapsed": 156493,
     "status": "ok",
     "timestamp": 1659635697676,
     "user": {
      "displayName": "Alan Jiahui Ma",
      "userId": "07426490136012605744"
     },
     "user_tz": 240
    },
    "id": "q_h72d6UY5Rm",
    "outputId": "66b11f31-8128-4fe5-cbef-e983249a4b76",
    "scrolled": false
   },
   "outputs": [
    {
     "data": {
      "text/plain": [
       "Output hidden; open in https://colab.research.google.com to view."
      ]
     },
     "metadata": {},
     "output_type": "display_data"
    }
   ],
   "source": [
    "from pathlib import Path, PurePath\n",
    "from skimage import io\n",
    "from src import post_process\n",
    "import numpy as np\n",
    "import pathlib\n",
    "\n",
    "#test_dir = Path('data/test_Pt_2019_7_24')\n",
    "\n",
    "process_args = {\n",
    "        'compilation': 'min',\n",
    "        'liberal_thresh': 220,     ##220-180 for best axon\n",
    "        'conservative_thresh': 180, \n",
    "        'invert_double_thresh': True,\n",
    "        'n_dilations': 2,\n",
    "        'min_grain_area': 300, #usually 300, cut to 100 for 2019 data\n",
    "        'prune_size': 100,\n",
    "        'out_dict': True\n",
    "}\n",
    "    \n",
    "for FOV in test_dir.glob('*'):\n",
    "    if not (FOV / 'predict').is_dir():\n",
    "        continue\n",
    "    \n",
    "    imgs = np.array([])\n",
    "    for fname in FOV.glob(\"predict/*.png\"):\n",
    "        print(fname)\n",
    "        if not fname.is_file(): continue\n",
    "        \n",
    "        img = io.imread(fname)\n",
    "        if len(img.shape) > 2:\n",
    "            img = img[:,:,0]\n",
    "            \n",
    "        if len(imgs) == 0:\n",
    "            imgs = img\n",
    "        else:\n",
    "            imgs = np.dstack((imgs,img))\n",
    "               \n",
    "    data = post_process(imgs, **process_args)\n",
    "    \n",
    "    from matplotlib import pyplot as plt\n",
    "    from src.visual_tools import *\n",
    "    fig, axes = plt.subplots(2, 3, figsize=(15,8))\n",
    "\n",
    "    for ax in axes.flatten():\n",
    "        ax.set_axis_off()\n",
    "\n",
    "    sub_plot(axes[0,0], data['compiled'], title='Min (logical or) Combined Image')\n",
    "    sub_plot(axes[0,1], data['double_thresh'], title='Double Thresholded Combined Image')\n",
    "    sub_plot(axes[0,2], data['dilated'], title='Dilated')\n",
    "    sub_plot(axes[1,2], data['closed'], title='Fill Holes')\n",
    "\n",
    "    sub_plot(axes[1,1], 255*(1-data['skeleton']), title='Double Threshold Skeleton')\n",
    "    sub_plot(axes[1,0], 255*(1-data['pruned_skeleton']), title='Pruned Skeleton')\n",
    "\n",
    "    fig.tight_layout()\n",
    "    plt.show()\n",
    "    plt.close()\n",
    "\n",
    "    \n",
    "    io.imsave(FOV / 'unet_skel.png', 255 * data['pruned_skeleton'].astype('uint8'))\n",
    "    print('Saving to: FOV / ' + 'unet_skel.png')\n",
    "    \n",
    "    "
   ]
  },
  {
   "cell_type": "markdown",
   "metadata": {
    "id": "cR6xzMBPcaw2"
   },
   "source": [
    "## Overlay "
   ]
  },
  {
   "cell_type": "code",
   "execution_count": null,
   "metadata": {
    "id": "SalLaUI4c-1A",
    "scrolled": true
   },
   "outputs": [],
   "source": [
    "from skimage import io, transform\n",
    "from pathlib import Path\n",
    "import numpy as np\n",
    "import os\n",
    "\n",
    "test_dir = Path('data/test_Pt_Axon_3_denoised_transfer/')\n",
    "\n",
    "for FOV in test_dir.glob('*'):\n",
    "    if not (FOV / 'raw').is_dir():\n",
    "        continue\n",
    "    for fname in FOV.glob('raw/*.png'):\n",
    "        raw_img = io.imread(fname) \n",
    "\n",
    "        if (np.max(raw_img) > 255):  #if not 8 bit depth, scale\n",
    "            raw_img = raw_img-raw_img.min()\n",
    "            raw_img = 255*(raw_img / np.ptp(raw_img))\n",
    "\n",
    "        sk_img = io.imread(FOV / 'unet_skel.png') #sk_img is unet\n",
    "        sk_img = 255 * transform.resize(sk_img, raw_img.shape, anti_aliasing=False) #resizing network output to raw\n",
    "        fusion_img = np.zeros((raw_img.shape[0], raw_img.shape[1], 3), dtype=int) \n",
    "        fusion_img[:, :, 0] = raw_img\n",
    "        fusion_img[:, :, 1] = raw_img\n",
    "        fusion_img[:, :, 2] = raw_img \n",
    "        fusion_img[sk_img > 0, 0] = 255\n",
    "\n",
    "        '''ht_img = io.imread(FOV / 'key' / 'trace.png')\n",
    "        ht_img = 255 - (255*transform.resize(ht_img, raw_img.shape, anti_aliasing=False))\n",
    "        fusion_img[ht_img > 0, 1] = 255'''\n",
    "        io.imshow(fusion_img)\n",
    "        io.show()\n",
    "        io.imsave(FOV / 'unet_overlay.png', fusion_img.astype('uint8')) \n",
    "        print('saving to ' + str(FOV) + '/unet_overlay.png')\n",
    "        break\n"
   ]
  },
  {
   "cell_type": "markdown",
   "metadata": {
    "id": "jENaS3uhwUV9"
   },
   "source": [
    "# Model Evaluation Tools"
   ]
  },
  {
   "cell_type": "markdown",
   "metadata": {
    "id": "ym5bKgKwG1rt"
   },
   "source": [
    "## Intersection Over Union (IOU)\n",
    "This test should find what percent of the predicted grain boundary (pred) matched the actual hand traced boundary (test)"
   ]
  },
  {
   "cell_type": "markdown",
   "metadata": {
    "id": "K3cKUkLxUl4G"
   },
   "source": [
    "`iou_test.find_iou(pred, ref)` \n",
    "This function finds the mean IOU between `pred` and `ref`. It does this by matching each grain in a traced (`ref`) image with a grain in the corresponding predicted (`pred`) image and calculating the Jaccard similarity index between them. It then takes the mean of all these Jaccard indicies to find the final mean iou of an image."
   ]
  },
  {
   "cell_type": "code",
   "execution_count": null,
   "metadata": {
    "colab": {
     "base_uri": "https://localhost:8080/"
    },
    "executionInfo": {
     "elapsed": 19433,
     "status": "ok",
     "timestamp": 1658510994299,
     "user": {
      "displayName": "Alan Jiahui Ma",
      "userId": "07426490136012605744"
     },
     "user_tz": 240
    },
    "id": "S-f5FWreHFYk",
    "outputId": "5e4aef0e-fd40-4fd4-ca95-46dbd9c5e509"
   },
   "outputs": [
    {
     "name": "stdout",
     "output_type": "stream",
     "text": [
      " - img trace \t Mean IOU: 0.6498059695925625\n",
      "\n",
      "Mean Mean IOU = 0.6498059695925625\n",
      "Median Mean IOU = 0.6498059695925625\n",
      "\n",
      "\n",
      "Max Mean IOU = 0.6498059695925625, Min Mean IOU = 0.6498059695925625\n"
     ]
    }
   ],
   "source": [
    "from skimage import io, transform\n",
    "import numpy as np\n",
    "from src.analysis import find_iou\n",
    "import importlib, os\n",
    "#importlib.reload(iou_test)\n",
    "\n",
    "test_dir = 'data/test_Pt_matched/20um/'\n",
    "\n",
    "traced_dir = test_dir + 'key/'\n",
    "traced_names = np.sort(os.listdir(traced_dir))\n",
    "traced = np.char.strip(traced_names, '.png')\n",
    "\n",
    "results = np.array([], dtype=np.float64)\n",
    "\n",
    "for key in traced:\n",
    "    ml_img = io.imread(test_dir + 'unet_skel.png') / 255\n",
    "    ml_img = 1 - ml_img\n",
    "#    ml_img = io.imread(test_dir + key + '_predict.png') / 255\n",
    "    key_img = transform.resize(io.imread(traced_dir + key + '.png'), ml_img.shape)\n",
    "    key_img = key_img > 0.9\n",
    "    \n",
    "    iou = find_iou(ml_img, key_img, verbose=False)\n",
    "    results = np.append(results, iou)\n",
    "    print(f' - img {key} \\t Mean IOU: {iou}')\n",
    "    \n",
    "print(f'\\nMean Mean IOU = {np.mean(results)}\\nMedian Mean IOU = {np.median(results)}\\n\\n')\n",
    "print(f'Max Mean IOU = {np.max(results)}, Min Mean IOU = {np.min(results)}')\n"
   ]
  },
  {
   "cell_type": "markdown",
   "metadata": {
    "id": "rVtddQFjoXsP"
   },
   "source": [
    "## Chi2"
   ]
  },
  {
   "cell_type": "code",
   "execution_count": null,
   "metadata": {
    "id": "uCTzHcjCTHIt",
    "scrolled": true
   },
   "outputs": [],
   "source": [
    "from chi2test import find_chi2\n",
    "from skimage import io, transform\n",
    "import os\n",
    "import numpy as np\n",
    "import time\n",
    "\n",
    "test_dir = 'data/test/'\n",
    "traced_dir = 'data/test/key/'\n",
    "traced_names = np.sort(os.listdir(traced_dir))\n",
    "traced = np.char.strip(traced_names, '.png')\n",
    "\n",
    "chi2_dtype = [('img', (np.str_, 10)), ('chi2', np.float64), ('avg_chi2', np.float64)]\n",
    "results = np.array([], dtype=chi2_dtype)\n",
    "\n",
    "for key in traced:\n",
    "    ml_img = io.imread(test_dir + key + '_processed.png')\n",
    "    key_img = transform.resize(io.imread(traced_dir + key + '.png'), ml_img.shape)\n",
    "\n",
    "    if np.min(key_img) != 0 or np.max(key_img) != 255:\n",
    "        key_img -= np.min(key_img)\n",
    "        key_img = np.round(key_img * (255 / np.max(key_img)))\n",
    "    key_img = np.max(key_img) - key_img\n",
    "    \n",
    "    result = find_chi2(ml_img, key_img, out_dict=True)\n",
    "    results = np.append(results, \\\n",
    "                np.array([(key, result[\"chi2\"], result[\"avg_chi2\"])], dtype=chi2_dtype))\n",
    "    print(f'- img: {key} \\t chi2: {result[\"chi2\"]} \\t avg_chi2: {result[\"avg_chi2\"]} \\t median_r2: {result[\"median_r2\"]}')\n",
    "\n",
    "print(f'\\nAverage chi2: {np.mean(results[\"chi2\"])}\\nAverage avg_chi2: {np.mean(results[\"avg_chi2\"])}\\nMedian chi2: {np.median(results[\"chi2\"])}')\n",
    "print(f'Max chi2: {np.max(results[\"chi2\"])}\\nMin chi2: {np.min(results[\"chi2\"])}')"
   ]
  },
  {
   "cell_type": "markdown",
   "metadata": {
    "id": "ziK9P9USTHIv"
   },
   "source": [
    "## Chi2 Alignment"
   ]
  },
  {
   "cell_type": "code",
   "execution_count": null,
   "metadata": {
    "id": "esr9-E2Ao6NX"
   },
   "outputs": [],
   "source": [
    "from chi2test import *\n",
    "from skimage import io, transform\n",
    "import numpy as np\n",
    "\n",
    "traced_n = 13\n",
    "traced_dir = 'data/test/key/'\n",
    "\n",
    "ml_img = io.imread('data/test/5_processed.png')\n",
    "key_img = transform.resize(io.imread('data/test/key/5.png'), ml_img.shape)\n",
    "\n",
    "if np.min(ml_img) != 0 or np.max(ml_img) != 255:\n",
    "    ml_img -= np.min(ml_img)\n",
    "    ml_img = np.round(ml_img * (255 / np.max(ml_img)))\n",
    "        \n",
    "if np.min(key_img) != 0 or np.max(key_img) != 255:\n",
    "    key_img -= np.min(key_img)\n",
    "    key_img = np.round(key_img * (255 / np.max(key_img)))\n",
    "    \n",
    "key_img = 255 - key_img\n",
    "\n",
    "io.imshow(key_img)\n",
    "io.show()\n",
    "\n",
    "io.imshow(ml_img)\n",
    "io.show()\n",
    "\n",
    "results = chi2_align(ml_img, key_img)\n",
    "\n",
    "print(results)\n",
    "\n",
    "print(find_chi2(ml_img, key_img))\n",
    "\n",
    "offset_x = int(results[\"x\"])\n",
    "offset_y = int(results[\"y\"])\n",
    "fuse_size = np.maximum(key_img.shape, ml_img.shape)\n",
    "fuse_size[0] += 2 * abs(offset_x) + 2\n",
    "fuse_size[1] += 2 * abs(offset_y) + 2\n",
    "\n",
    "def fuse(out, img, offset_x=0, offset_y=0):\n",
    "    buf_x = out.shape[0] - img.shape[0]\n",
    "    buf_y = out.shape[1] - img.shape[1]\n",
    "    img = np.round(img * (255 / np.max(img)))\n",
    "    x_low = buf_x//2 + offset_x\n",
    "    y_low = buf_y//2 + offset_y\n",
    "    x_high = -buf_x//2 + offset_x\n",
    "    y_high = -buf_y//2 + offset_y\n",
    "    print(x_low, y_low, x_high, y_high)\n",
    "    if (x_high > -1):\n",
    "        x_high = x_low + img.shape[0]\n",
    "    if (y_high > -1):\n",
    "        y_high = y_low + img.shape[1]\n",
    "    out[x_low : x_high, y_low : y_high] = img\n",
    "\n",
    "fuse_img = np.zeros((fuse_size[0], fuse_size[1], 3), dtype=int)\n",
    "print(fuse_img.shape)\n",
    "fuse(fuse_img[:,:,0], ml_img, offset_x, offset_y)\n",
    "print(fuse_img.shape)\n",
    "fuse(fuse_img[:,:,1], key_img)\n",
    "\n",
    "io.imshow(fuse_img)\n",
    "io.show()\n"
   ]
  },
  {
   "cell_type": "code",
   "execution_count": null,
   "metadata": {
    "id": "602NKCaTZanF"
   },
   "outputs": [],
   "source": []
  }
 ],
 "metadata": {
  "accelerator": "GPU",
  "celltoolbar": "Raw Cell Format",
  "colab": {
   "collapsed_sections": [
    "yYRADonH8nm0",
    "SOes-E73s-n-",
    "jENaS3uhwUV9",
    "ym5bKgKwG1rt",
    "rVtddQFjoXsP",
    "ziK9P9USTHIv"
   ],
   "provenance": []
  },
  "gpuClass": "standard",
  "kernelspec": {
   "display_name": "unet3ch",
   "language": "python",
   "name": "unet3ch"
  },
  "language_info": {
   "codemirror_mode": {
    "name": "ipython",
    "version": 3
   },
   "file_extension": ".py",
   "mimetype": "text/x-python",
   "name": "python",
   "nbconvert_exporter": "python",
   "pygments_lexer": "ipython3",
   "version": "3.10.3"
  }
 },
 "nbformat": 4,
 "nbformat_minor": 1
}
